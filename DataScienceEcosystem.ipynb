{
 "cells": [
  {
   "cell_type": "markdown",
   "id": "b5f9e739-c772-488e-8907-568393d12694",
   "metadata": {},
   "source": [
    "# Data Science Tools and Ecosystem"
   ]
  },
  {
   "cell_type": "markdown",
   "id": "b3df4635-d287-4293-a301-78865beac090",
   "metadata": {},
   "source": [
    "In this notebook, Data Science Tools and Ecosystem are summarized."
   ]
  },
  {
   "cell_type": "markdown",
   "id": "a8c9940f-fac7-41de-b405-a32f0563ac53",
   "metadata": {},
   "source": [
    "**Objectives:**"
   ]
  },
  {
   "cell_type": "markdown",
   "id": "cc52d4f6-181d-4504-90b8-0d894f2ce325",
   "metadata": {},
   "source": [
    "* List popular languages for Data Science.\n",
    "* List commonly used libraries used by Data Scientists.\n",
    "* List of Table on Data Science Tool.\n",
    "* introducing to arithmetic expression."
   ]
  },
  {
   "cell_type": "markdown",
   "id": "694bdf99-85cc-44a9-82ec-17cde8d48297",
   "metadata": {},
   "source": [
    "Some of the popular languages that Data Scientists use are:\n",
    "\n",
    "\n",
    "1. Python.\n",
    "2. R.\n",
    "3. SQL.\n",
    "4. Java.\n",
    "5. Julia.\n",
    "6. Scala.\n",
    "7. C/C++.\n",
    "8. JavaScript."
   ]
  },
  {
   "cell_type": "markdown",
   "id": "7ff77cc6-4c66-469c-8379-1ce6342604ac",
   "metadata": {},
   "source": [
    "Some of the commonly used libraries used by Data Scientists include:\n",
    "\n",
    "1. Numpy.\n",
    "2. Scypy.\n",
    "3. TensorFlow\n",
    "4. Pandas.\n",
    "5. PyTorch.\n",
    "6. Matplotlib.\n",
    "7. SciKit-Learn.\n",
    "8. Caffe2."
   ]
  },
  {
   "cell_type": "markdown",
   "id": "7bccbaa0-0df9-4901-b076-60f229c3c3c6",
   "metadata": {},
   "source": [
    "| Data Science Tools |\n",
    "|--------------------|\n",
    "| SAS. It is one of those data science tools which are specifically designed for statistical operation |\n",
    "| Apache Spark |\n",
    "| BigMl |"
   ]
  },
  {
   "cell_type": "markdown",
   "id": "dc267caf-b27c-4f9a-a16f-b436e009ce7e",
   "metadata": {},
   "source": [
    "### Below are a few examples of evaluating arithmetic expressions in Python."
   ]
  },
  {
   "cell_type": "markdown",
   "id": "c7f3c4ff-b5ff-458e-9bfd-12de31e304da",
   "metadata": {},
   "source": [
    "This a simple arithmetic expression to mutiply then add integers."
   ]
  },
  {
   "cell_type": "code",
   "execution_count": 2,
   "id": "0c99a6c2-6839-4d6f-be50-7263284d0b6a",
   "metadata": {
    "tags": []
   },
   "outputs": [
    {
     "data": {
      "text/plain": [
       "17"
      ]
     },
     "execution_count": 2,
     "metadata": {},
     "output_type": "execute_result"
    }
   ],
   "source": [
    "(3*4)+5"
   ]
  },
  {
   "cell_type": "markdown",
   "id": "aae116d4-5152-44c9-831e-30287f112c34",
   "metadata": {},
   "source": [
    "This will convert 200 minutes to hours by diving by 60"
   ]
  },
  {
   "cell_type": "code",
   "execution_count": 5,
   "id": "97519dd8-4bb6-491d-af91-9e4a306755b2",
   "metadata": {
    "tags": []
   },
   "outputs": [
    {
     "name": "stdout",
     "output_type": "stream",
     "text": [
      "0 days, 3.3333333333333335 hours, 0 mins. \n"
     ]
    }
   ],
   "source": [
    "days = 0\n",
    "hours = 0\n",
    "mins = 0\n",
    "\n",
    "time = 200\n",
    "#days = time / 1440\n",
    "leftover_minutes = time % 1440\n",
    "hours = leftover_minutes / 60\n",
    "#mins = time - (days*1440) - (hours*60)\n",
    "print(str(days) + \" days, \" + str(hours) + \" hours, \" + str(mins) +  \" mins. \")"
   ]
  },
  {
   "cell_type": "markdown",
   "id": "faee7632-501c-4c47-8e02-0132e60656a9",
   "metadata": {},
   "source": [
    "## Author"
   ]
  },
  {
   "cell_type": "markdown",
   "id": "ceda2fe9-97ac-4207-822b-f7e8de610ab1",
   "metadata": {},
   "source": [
    "Karan Arora"
   ]
  },
  {
   "cell_type": "code",
   "execution_count": null,
   "id": "45f7be0d-25a8-4333-a6e3-11cc559907ed",
   "metadata": {},
   "outputs": [],
   "source": []
  }
 ],
 "metadata": {
  "kernelspec": {
   "display_name": "Python 3 (ipykernel)",
   "language": "python",
   "name": "python3"
  },
  "language_info": {
   "codemirror_mode": {
    "name": "ipython",
    "version": 3
   },
   "file_extension": ".py",
   "mimetype": "text/x-python",
   "name": "python",
   "nbconvert_exporter": "python",
   "pygments_lexer": "ipython3",
   "version": "3.11.3"
  }
 },
 "nbformat": 4,
 "nbformat_minor": 5
}
